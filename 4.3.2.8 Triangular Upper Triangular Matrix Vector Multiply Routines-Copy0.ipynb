{
 "metadata": {
  "name": ""
 },
 "nbformat": 3,
 "nbformat_minor": 0,
 "worksheets": [
  {
   "cells": [
    {
     "cell_type": "heading",
     "level": 1,
     "metadata": {},
     "source": [
      "Transpose Upper Triangular Matrix Vector Multiply Routines"
     ]
    },
    {
     "cell_type": "markdown",
     "metadata": {},
     "source": [
      "This notebook walks you through how to implement $ y := U^T x + y $ where $ U $ is upper triangular."
     ]
    },
    {
     "cell_type": "heading",
     "level": 2,
     "metadata": {},
     "source": [
      "Getting started"
     ]
    },
    {
     "cell_type": "markdown",
     "metadata": {},
     "source": [
      "We will use some functions that are part of our laff library (of which this function will become a part) as well as some routines from the FLAME API (Application Programming Interface) that allows us to write code that closely resembles how we typeset algorithms using the FLAME notation.  These functions are imported with the \"import laff as laff\" and \"import flame\" statements."
     ]
    },
    {
     "cell_type": "heading",
     "level": 2,
     "metadata": {},
     "source": [
      "Algorithm that takes dot products"
     ]
    },
    {
     "cell_type": "heading",
     "level": 2,
     "metadata": {},
     "source": [
      "The routine <br> <code> Tmvmult_ut_unb_var1( U, x, y ) </code>"
     ]
    },
    {
     "cell_type": "markdown",
     "metadata": {},
     "source": [
      "This routine, given upper triangular $ U \\in \\mathbb{R}^{n \\times n} $, $ x \\in \\mathbb{R}^n $, and $ y \\in \\mathbb{R}^n $, computes $ y := U^T x + y $.  The \"_ut_\" indicates this is the \"upper, transpose\" matrix-vector multiplication.  \n",
      "\n",
      "The specific laff functions we will use are \n",
      "<ul>\n",
      "<li> <code> laff.dots( x, y, alpha ) </code> which computes $ \\alpha := x^T y + \\alpha $.  </li>\n",
      "</ul>\n",
      "\n",
      "Use the <a href=\"https://studio.edx.org/c4x/UTAustinX/UT.5.01x/asset/index.html\"> Spark webpage </a>.  (Make sure you adjust the name of the routine.)"
     ]
    },
    {
     "cell_type": "code",
     "collapsed": false,
     "input": [
      "import flame\n",
      "import laff as laff\n",
      "\n",
      "def Tmvmult_ut_unb_var1(U, x, y):\n",
      "\n",
      "    UTL, UTR, \\\n",
      "    UBL, UBR  = flame.part_2x2(U, \\\n",
      "                               0, 0, 'TL')\n",
      "\n",
      "    xT, \\\n",
      "    xB  = flame.part_2x1(x, \\\n",
      "                         0, 'TOP')\n",
      "\n",
      "    yT, \\\n",
      "    yB  = flame.part_2x1(y, \\\n",
      "                         0, 'TOP')\n",
      "\n",
      "    while UTL.shape[0] < U.shape[0]:\n",
      "\n",
      "        U00,  u01,       U02,  \\\n",
      "        u10t, upsilon11, u12t, \\\n",
      "        U20,  u21,       U22   = flame.repart_2x2_to_3x3(UTL, UTR, \\\n",
      "                                                         UBL, UBR, \\\n",
      "                                                         1, 1, 'BR')\n",
      "\n",
      "        x0,   \\\n",
      "        chi1, \\\n",
      "        x2    = flame.repart_2x1_to_3x1(xT, \\\n",
      "                                        xB, \\\n",
      "                                        1, 'BOTTOM')\n",
      "\n",
      "        y0,   \\\n",
      "        psi1, \\\n",
      "        y2    = flame.repart_2x1_to_3x1(yT, \\\n",
      "                                        yB, \\\n",
      "                                        1, 'BOTTOM')\n",
      "\n",
      "        #------------------------------------------------------------#\n",
      "\n",
      "        laff.dots( upsilon11, chi1, psi1 )\n",
      "        laff.dots( u01, x0, psi1 )\n",
      "        \n",
      "        #------------------------------------------------------------#\n",
      "\n",
      "        UTL, UTR, \\\n",
      "        UBL, UBR  = flame.cont_with_3x3_to_2x2(U00,  u01,       U02,  \\\n",
      "                                               u10t, upsilon11, u12t, \\\n",
      "                                               U20,  u21,       U22,  \\\n",
      "                                               'TL')\n",
      "\n",
      "        xT, \\\n",
      "        xB  = flame.cont_with_3x1_to_2x1(x0,   \\\n",
      "                                         chi1, \\\n",
      "                                         x2,   \\\n",
      "                                         'TOP')\n",
      "\n",
      "        yT, \\\n",
      "        yB  = flame.cont_with_3x1_to_2x1(y0,   \\\n",
      "                                         psi1, \\\n",
      "                                         y2,   \\\n",
      "                                         'TOP')\n",
      "\n",
      "    flame.merge_2x2(UTL, UTR, \\\n",
      "                    UBL, UBR, U)\n",
      "\n",
      "    flame.merge_2x1(xT, \\\n",
      "                    xB, x)\n",
      "\n",
      "    flame.merge_2x1(yT, \\\n",
      "                    yB, y)\n",
      "\n",
      "\n"
     ],
     "language": "python",
     "metadata": {},
     "outputs": [],
     "prompt_number": 4
    },
    {
     "cell_type": "heading",
     "level": 2,
     "metadata": {},
     "source": [
      "Testing"
     ]
    },
    {
     "cell_type": "markdown",
     "metadata": {},
     "source": [
      "Let's quickly test the routine by creating a 4 x 4 matrix and related vectors, performing the computation."
     ]
    },
    {
     "cell_type": "code",
     "collapsed": false,
     "input": [
      "from numpy import random\n",
      "from numpy import matrix\n",
      "\n",
      "U = matrix( random.rand( 4,4 ) )\n",
      "x = matrix( random.rand( 4,1 ) )\n",
      "y = matrix( random.rand( 4,1 ) )\n",
      "yold = matrix( random.rand( 4,1 ) )\n",
      "\n",
      "# Notice that U is not upper triangular.  We will only use the upper triangular part.\n",
      "\n",
      "print( 'U before =' )\n",
      "print( U )\n",
      "\n",
      "print( 'x before =' )\n",
      "print( x )\n",
      "\n",
      "print( 'y before =' )\n",
      "print( y )"
     ],
     "language": "python",
     "metadata": {},
     "outputs": [
      {
       "output_type": "stream",
       "stream": "stdout",
       "text": [
        "U before =\n",
        "[[ 0.84811189  0.50186532  0.82790193  0.70902132]\n",
        " [ 0.03600067  0.22449324  0.39121466  0.45061873]\n",
        " [ 0.28571638  0.74239481  0.52223641  0.79855182]\n",
        " [ 0.25052287  0.76563756  0.31744941  0.67317395]]\n",
        "x before =\n",
        "[[ 0.7814035 ]\n",
        " [ 0.13058342]\n",
        " [ 0.12629102]\n",
        " [ 0.79270353]]\n",
        "y before =\n",
        "[[ 0.6703553 ]\n",
        " [ 0.46934541]\n",
        " [ 0.03315039]\n",
        " [ 0.74946776]]\n"
       ]
      }
     ],
     "prompt_number": 5
    },
    {
     "cell_type": "code",
     "collapsed": false,
     "input": [
      "import numpy as np\n",
      "laff.copy( y, yold )   # save the original vector y\n",
      "\n",
      "Tmvmult_ut_unb_var1( U, x, y )\n",
      "\n",
      "print( 'y after =' )\n",
      "print( y )\n",
      "\n",
      "print( 'y - ( np.transpose( np.triu( U ) ) * x + yold ) = ' )\n",
      "print( y - ( np.transpose( np.triu( U ) ) * x + yold ) )"
     ],
     "language": "python",
     "metadata": {},
     "outputs": [
      {
       "output_type": "stream",
       "stream": "stdout",
       "text": [
        "y after =\n",
        "[[ 1.33307291]\n",
        " [ 0.89081983]\n",
        " [ 0.79711577]\n",
        " [ 1.99682013]]\n",
        "y - ( np.transpose( np.triu( U ) ) * x + yold ) = \n",
        "[[  0.00000000e+00]\n",
        " [  0.00000000e+00]\n",
        " [ -1.11022302e-16]\n",
        " [  0.00000000e+00]]\n"
       ]
      }
     ],
     "prompt_number": 6
    },
    {
     "cell_type": "markdown",
     "metadata": {},
     "source": [
      "Bingo, it seems to work!  (Notice that we are doing floating point computations, which means that due to rounding you may not get an exact \"0\".)"
     ]
    },
    {
     "cell_type": "heading",
     "level": 2,
     "metadata": {},
     "source": [
      "Watch your code in action!"
     ]
    },
    {
     "cell_type": "markdown",
     "metadata": {},
     "source": [
      "Copy and paste the code into <a href=\"http://edx-org-utaustinx.s3.amazonaws.com/UT501x/PictureFlame/PictureFLAME.html\"> PictureFLAME </a>, a webpage where you can watch your routine in action.  Just cut and paste into the box.  \n",
      "\n",
      "Disclaimer: we implemented a VERY simple interpreter.  If you do something wrong, we cannot guarantee the results.  But if you do it right, you are in for a treat.\n",
      "\n",
      "If you want to reset the problem, just click in the box into which you pasted the code and hit \"next\" again."
     ]
    },
    {
     "cell_type": "heading",
     "level": 2,
     "metadata": {},
     "source": [
      "Algorithm that uses axpys"
     ]
    },
    {
     "cell_type": "heading",
     "level": 2,
     "metadata": {},
     "source": [
      "The routine <br> <code> Tmvmult_ut_unb_var2( U, x, y ) </code>"
     ]
    },
    {
     "cell_type": "markdown",
     "metadata": {},
     "source": [
      "This routine, given upper triangular $ U \\in \\mathbb{R}^{n \\times n} $, $ x \\in \\mathbb{R}^n $, and $ y \\in \\mathbb{R}^n $, computes $ y := U^T x + y $.  The \"_ut_\" indicates this is the \"upper triangular, no transpose\" matrix-vector multiplication.  \n",
      "\n",
      "The specific laff functions we will use are \n",
      "<ul>\n",
      "<li> <code> laff.axpy( alpha, x, y ) </code> which computes $ y := \\alpha x +  y  $.  </li>\n",
      "</ul>\n",
      "\n",
      "Use the <a href=\"https://studio.edx.org/c4x/UTAustinX/UT.5.01x/asset/index.html\"> Spark webpage </a>.  (Make sure you adjust the name of the routine.)"
     ]
    },
    {
     "cell_type": "code",
     "collapsed": false,
     "input": [
      "import flame\n",
      "import laff as laff\n",
      "\n",
      "def Tmvmult_ut_unb_var2(U, x, y):\n",
      "\n",
      "    UTL, UTR, \\\n",
      "    UBL, UBR  = flame.part_2x2(U, \\\n",
      "                               0, 0, 'TL')\n",
      "\n",
      "    xT, \\\n",
      "    xB  = flame.part_2x1(x, \\\n",
      "                         0, 'TOP')\n",
      "\n",
      "    yT, \\\n",
      "    yB  = flame.part_2x1(y, \\\n",
      "                         0, 'TOP')\n",
      "\n",
      "    while UTL.shape[0] < U.shape[0]:\n",
      "\n",
      "        U00,  u01,       U02,  \\\n",
      "        u10t, upsilon11, u12t, \\\n",
      "        U20,  u21,       U22   = flame.repart_2x2_to_3x3(UTL, UTR, \\\n",
      "                                                         UBL, UBR, \\\n",
      "                                                         1, 1, 'BR')\n",
      "\n",
      "        x0,   \\\n",
      "        chi1, \\\n",
      "        x2    = flame.repart_2x1_to_3x1(xT, \\\n",
      "                                        xB, \\\n",
      "                                        1, 'BOTTOM')\n",
      "\n",
      "        y0,   \\\n",
      "        psi1, \\\n",
      "        y2    = flame.repart_2x1_to_3x1(yT, \\\n",
      "                                        yB, \\\n",
      "                                        1, 'BOTTOM')\n",
      "\n",
      "        #------------------------------------------------------------#\n",
      "\n",
      "        laff.axpy( chi1, u12t, y2 )\n",
      "        laff.axpy( chi1, upsilon11, psi1 )\n",
      "\n",
      "        #------------------------------------------------------------#\n",
      "\n",
      "        UTL, UTR, \\\n",
      "        UBL, UBR  = flame.cont_with_3x3_to_2x2(U00,  u01,       U02,  \\\n",
      "                                               u10t, upsilon11, u12t, \\\n",
      "                                               U20,  u21,       U22,  \\\n",
      "                                               'TL')\n",
      "\n",
      "        xT, \\\n",
      "        xB  = flame.cont_with_3x1_to_2x1(x0,   \\\n",
      "                                         chi1, \\\n",
      "                                         x2,   \\\n",
      "                                         'TOP')\n",
      "\n",
      "        yT, \\\n",
      "        yB  = flame.cont_with_3x1_to_2x1(y0,   \\\n",
      "                                         psi1, \\\n",
      "                                         y2,   \\\n",
      "                                         'TOP')\n",
      "\n",
      "    flame.merge_2x2(UTL, UTR, \\\n",
      "                    UBL, UBR, U)\n",
      "\n",
      "    flame.merge_2x1(xT, \\\n",
      "                    xB, x)\n",
      "\n",
      "    flame.merge_2x1(yT, \\\n",
      "                    yB, y)\n",
      "\n"
     ],
     "language": "python",
     "metadata": {},
     "outputs": [],
     "prompt_number": 10
    },
    {
     "cell_type": "heading",
     "level": 2,
     "metadata": {},
     "source": [
      "Testing"
     ]
    },
    {
     "cell_type": "markdown",
     "metadata": {},
     "source": [
      "Let's quickly test the routine by creating a 4 x 4 matrix and related vectors, performing the computation."
     ]
    },
    {
     "cell_type": "code",
     "collapsed": false,
     "input": [
      "from numpy import random\n",
      "from numpy import matrix\n",
      "\n",
      "U = matrix( random.rand( 4,4 ) )\n",
      "x = matrix( random.rand( 4,1 ) )\n",
      "y = matrix( random.rand( 4,1 ) )\n",
      "yold = matrix( random.rand( 4,1 ) )\n",
      "\n",
      "# U is not upper triangular.  We will only use the upper triangular part.\n",
      "\n",
      "print( 'U before =' )\n",
      "print( U )\n",
      "\n",
      "print( 'x before =' )\n",
      "print( x )\n",
      "\n",
      "print( 'y before =' )\n",
      "print( y )"
     ],
     "language": "python",
     "metadata": {},
     "outputs": [
      {
       "output_type": "stream",
       "stream": "stdout",
       "text": [
        "U before =\n",
        "[[ 0.09052689  0.89420523  0.20168733  0.80502975]\n",
        " [ 0.27573179  0.98202536  0.31427263  0.73670759]\n",
        " [ 0.35779116  0.37062154  0.11113956  0.4895194 ]\n",
        " [ 0.13522332  0.09268718  0.77762984  0.38052216]]\n",
        "x before =\n",
        "[[ 0.94253009]\n",
        " [ 0.69411212]\n",
        " [ 0.77972261]\n",
        " [ 0.91558691]]\n",
        "y before =\n",
        "[[ 0.74095177]\n",
        " [ 0.75141578]\n",
        " [ 0.32259206]\n",
        " [ 0.712092  ]]\n"
       ]
      }
     ],
     "prompt_number": 11
    },
    {
     "cell_type": "code",
     "collapsed": false,
     "input": [
      "laff.copy( y, yold )   # save the original vector y\n",
      "\n",
      "Tmvmult_ut_unb_var2( U, x, y )\n",
      "\n",
      "print( 'y after =' )\n",
      "print( y )\n",
      "\n",
      "print( 'y - ( np.transpose( np.triu( U ) ) * x + yold ) = ' )\n",
      "print( y - ( np.transpose( np.triu( U ) ) * x + yold ) )"
     ],
     "language": "python",
     "metadata": {},
     "outputs": [
      {
       "output_type": "stream",
       "stream": "stdout",
       "text": [
        "y after =\n",
        "[[ 0.82627609]\n",
        " [ 2.27586681]\n",
        " [ 0.81748691]\n",
        " [ 2.71230488]]\n",
        "y - ( np.transpose( np.triu( U ) ) * x + yold ) = \n",
        "[[ 0.]\n",
        " [ 0.]\n",
        " [ 0.]\n",
        " [ 0.]]\n"
       ]
      }
     ],
     "prompt_number": 12
    },
    {
     "cell_type": "markdown",
     "metadata": {},
     "source": [
      "Bingo, it seems to work!  (Notice that we are doing floating point computations, which means that due to rounding you may not get an exact \"0\".)"
     ]
    },
    {
     "cell_type": "heading",
     "level": 2,
     "metadata": {},
     "source": [
      "Watch your code in action!"
     ]
    },
    {
     "cell_type": "markdown",
     "metadata": {},
     "source": [
      "Copy and paste the code into <a href=\"http://edx-org-utaustinx.s3.amazonaws.com/UT501x/PictureFlame/PictureFLAME.html\"> PictureFLAME </a>, a webpage where you can watch your routine in action.  Just cut and paste into the box.  \n",
      "\n",
      "Disclaimer: we implemented a VERY simple interpreter.  If you do something wrong, we cannot guarantee the results.  But if you do it right, you are in for a treat.\n",
      "\n",
      "If you want to reset the problem, just click in the box into which you pasted the code and hit \"next\" again."
     ]
    },
    {
     "cell_type": "code",
     "collapsed": false,
     "input": [],
     "language": "python",
     "metadata": {},
     "outputs": []
    }
   ],
   "metadata": {}
  }
 ]
}