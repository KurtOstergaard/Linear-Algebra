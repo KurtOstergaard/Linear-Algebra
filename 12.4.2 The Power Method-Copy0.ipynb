{
 "metadata": {
  "name": ""
 },
 "nbformat": 3,
 "nbformat_minor": 0,
 "worksheets": [
  {
   "cells": [
    {
     "cell_type": "heading",
     "level": 1,
     "metadata": {},
     "source": [
      "    12.4.2 The Power Method"
     ]
    },
    {
     "cell_type": "markdown",
     "metadata": {},
     "source": [
      "With this notebook, we demonstrate how the Power Method can be used to compute the eigenvector associated with the largest eigenvalue (in magnitude).\n",
      "\n",
      "<font color=red> Be sure to make a copy!!!! </font>"
     ]
    },
    {
     "cell_type": "markdown",
     "metadata": {},
     "source": [
      "We start by creating a matrix with known eigenvalues and eigenvectors\n",
      "\n",
      "How do we do this?  \n",
      "<ul>\n",
      "  <li>\n",
      "    We want a matrix that is not deficient, since otherwise the Power Method may not work. \n",
      "  </li>\n",
      "  <li>\n",
      "    Hence, $ A = V \\Lambda V^{-1} $ for some diagonal matrix $ \\Lambda $ and nonsingular matrix $ V $.  The eigenvalues are then on the diagonal of $ \\Lambda $ and the eigenvectors are the columns of $ V $.\n",
      "    </li>\n",
      "    <li>\n",
      "    So, let's pick the eigenvalues for the diagonal of $ \\Lambda $ and let's pick a random matrix $ V $ (in the hopes that it has linearly independent columns) and then let's see what happens.  \n",
      "    </li>\n",
      "    </ul>\n",
      "\n",
      "<font color=red> Experiment by changing the eigenvalues!  What happens if you make the second entry on the diagonal equal to -4?  Or what if you set 2 to -1? </font>"
     ]
    },
    {
     "cell_type": "code",
     "collapsed": false,
     "input": [
      "import numpy as np\n",
      "import laff\n",
      "import flame\n",
      "\n",
      "Lambda = np.matrix( ' 4., 0., 0., 0;\\\n",
      "                      0., 3., 0., 0;\\\n",
      "                      0., 0., 2., 0;\\\n",
      "                      0., 0., 0., 1' )\n",
      "\n",
      "lambda0 = Lambda[ 0,0 ]\n",
      "\n",
      "V = np.matrix( np.random.rand( 4,4 ) )\n",
      "\n",
      "# normalize the columns of V to equal one\n",
      "\n",
      "for j in range( 0, 4 ):\n",
      "    V[ :, j ] = V[ :, j ] / np.sqrt( np.transpose( V[:,j] ) * V[:, j ] )\n",
      "\n",
      "A = V * Lambda * np.linalg.inv( V )\n",
      "\n",
      "print( 'Lambda = ' )\n",
      "print( Lambda)\n",
      "\n",
      "print( 'V = ' )\n",
      "print( V )\n",
      "\n",
      "print( 'A = ' )\n",
      "print( A )\n"
     ],
     "language": "python",
     "metadata": {},
     "outputs": [
      {
       "output_type": "stream",
       "stream": "stdout",
       "text": [
        "Lambda = \n",
        "[[ 4.  0.  0.  0.]\n",
        " [ 0.  3.  0.  0.]\n",
        " [ 0.  0.  2.  0.]\n",
        " [ 0.  0.  0.  1.]]\n",
        "V = \n",
        "[[ 0.51184336  0.68751237  0.8054937   0.08428839]\n",
        " [ 0.36575577  0.42957344  0.46128565  0.57267684]\n",
        " [ 0.77730441  0.0072804   0.30926903  0.59793856]\n",
        " [ 0.00607868  0.58544034  0.20675615  0.55444222]]\n",
        "A = \n",
        "[[  4.70231204  -9.73797286   4.07983297   5.09549962]\n",
        " [  2.54825927  -6.1731648    3.07999375   3.70006027]\n",
        " [  3.06712896 -10.36477371   6.82648626   3.95579842]\n",
        " [  1.75157213  -5.0650802    1.22491892   4.64436651]]\n"
       ]
      }
     ],
     "prompt_number": 7
    },
    {
     "cell_type": "code",
     "collapsed": false,
     "input": [
      "# Pick a random starting vector\n",
      "\n",
      "x = np.matrix( np.random.rand( 4,1 ) )\n",
      "\n",
      "for i in range(0,20):\n",
      "    x = A * x \n",
      "    \n",
      "    # normalize x to length one\n",
      "    x = x / np.sqrt( np.transpose( x ) * x )\n",
      "    \n",
      "    print( 'Rayleigh quotient with vector x:', np.transpose( x ) * A * x / ( np.transpose( x ) * x ))\n",
      "    print( 'inner product of x with v0     :', np.transpose( x ) * V[ :, 0 ] )\n",
      "    print( ' ' )"
     ],
     "language": "python",
     "metadata": {},
     "outputs": [
      {
       "output_type": "stream",
       "stream": "stdout",
       "text": [
        "Rayleigh quotient with vector x: [[ 4.4804555]]\n",
        "inner product of x with v0     : [[ 0.94907848]]\n",
        " \n",
        "Rayleigh quotient with vector x: [[ 4.07761905]]\n",
        "inner product of x with v0     : [[ 0.96314172]]\n",
        " \n",
        "Rayleigh quotient with vector x: [[ 3.95943201]]\n",
        "inner product of x with v0     : [[ 0.9745761]]\n",
        " \n",
        "Rayleigh quotient with vector x: [[ 3.92721919]]\n",
        "inner product of x with v0     : [[ 0.98321561]]\n",
        " \n",
        "Rayleigh quotient with vector x: [[ 3.92586642]]\n",
        "inner product of x with v0     : [[ 0.98932691]]\n",
        " \n",
        "Rayleigh quotient with vector x: [[ 3.93519893]]\n",
        "inner product of x with v0     : [[ 0.99341701]]\n",
        " \n",
        "Rayleigh quotient with vector x: [[ 3.94708071]]\n",
        "inner product of x with v0     : [[ 0.9960356]]\n",
        " \n",
        "Rayleigh quotient with vector x: [[ 3.95830829]]\n",
        "inner product of x with v0     : [[ 0.9976556]]\n",
        " \n",
        "Rayleigh quotient with vector x: [[ 3.96781866]]\n",
        "inner product of x with v0     : [[ 0.99863229]]\n",
        " \n",
        "Rayleigh quotient with vector x: [[ 3.97545703]]\n",
        "inner product of x with v0     : [[ 0.99921002]]\n",
        " \n",
        "Rayleigh quotient with vector x: [[ 3.98141642]]\n",
        "inner product of x with v0     : [[ 0.99954702]]\n",
        " \n",
        "Rayleigh quotient with vector x: [[ 3.98598896]]\n",
        "inner product of x with v0     : [[ 0.99974163]]\n",
        " \n",
        "Rayleigh quotient with vector x: [[ 3.98946315]]\n",
        "inner product of x with v0     : [[ 0.99985319]]\n",
        " \n",
        "Rayleigh quotient with vector x: [[ 3.99208752]]\n",
        "inner product of x with v0     : [[ 0.99991681]]\n",
        " \n",
        "Rayleigh quotient with vector x: [[ 3.99406315]]\n",
        "inner product of x with v0     : [[ 0.99995296]]\n",
        " \n",
        "Rayleigh quotient with vector x: [[ 3.99554747]]\n",
        "inner product of x with v0     : [[ 0.99997343]]\n",
        " \n",
        "Rayleigh quotient with vector x: [[ 3.9966614]]\n",
        "inner product of x with v0     : [[ 0.99998501]]\n",
        " \n",
        "Rayleigh quotient with vector x: [[ 3.99749686]]\n",
        "inner product of x with v0     : [[ 0.99999155]]\n",
        " \n",
        "Rayleigh quotient with vector x: [[ 3.99812328]]\n",
        "inner product of x with v0     : [[ 0.99999524]]\n",
        " \n",
        "Rayleigh quotient with vector x: [[ 3.99859291]]\n",
        "inner product of x with v0     : [[ 0.99999732]]\n",
        " \n"
       ]
      }
     ],
     "prompt_number": 8
    },
    {
     "cell_type": "code",
     "collapsed": false,
     "input": [],
     "language": "python",
     "metadata": {},
     "outputs": [],
     "prompt_number": 5
    },
    {
     "cell_type": "markdown",
     "metadata": {},
     "source": [
      "In the above, \n",
      " <ul>\n",
      " <li>\n",
      " The Rayleigh quotient should converge to 4.0 (slowly).\n",
      " </li>\n",
      " <li>\n",
      " The inner product of $ x $ and the first column of $ V $, $ v_0 $, should converge to 1 or -1 since eventually $ x $ should be in the direction of $ v_0 $ (or in the opposite direction).\n",
      " </li>\n",
      " </ul>\n",
      " \n",
      "If you change the \"3\" on the diagonal to \"-4\", then you have two largest eigenvalues (in magnitude), and the vector $ x $ will end up in the space spanned by $ v_0 $ and $ v_1 $. \n",
      " You can check this by looking at $ ( I - V_L ( V_L^T V_L )^{-1} V_L^T ) x $, where $V_L $ equals the matrix with $ v_0 $ and $ v_1 $ as its columns, to see if the vector orthogonal to $ {\\cal C}( V_L ) $ converges to zero. This is seen in the following code block:\n",
      "\n"
     ]
    },
    {
     "cell_type": "code",
     "collapsed": false,
     "input": [
      "w = x - V[ :,0:2 ] * np.linalg.inv( np.transpose( V[ :,0:2 ] ) * V[ :,0:2 ] ) * np.transpose( V[ :,0:2 ] ) * x\n",
      "    \n",
      "print( 'Norm of component orthogonal: ', np.linalg.norm( w ) )"
     ],
     "language": "python",
     "metadata": {},
     "outputs": [
      {
       "output_type": "stream",
       "stream": "stdout",
       "text": [
        "Norm of component orthogonal:  7.6645897977e-07\n"
       ]
      }
     ],
     "prompt_number": 6
    },
    {
     "cell_type": "code",
     "collapsed": false,
     "input": [],
     "language": "python",
     "metadata": {},
     "outputs": [],
     "prompt_number": 3
    },
    {
     "cell_type": "code",
     "collapsed": false,
     "input": [],
     "language": "python",
     "metadata": {},
     "outputs": [],
     "prompt_number": 3
    },
    {
     "cell_type": "code",
     "collapsed": false,
     "input": [],
     "language": "python",
     "metadata": {},
     "outputs": []
    }
   ],
   "metadata": {}
  }
 ]
}