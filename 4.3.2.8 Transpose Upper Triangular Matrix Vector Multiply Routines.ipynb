{
 "metadata": {
  "name": ""
 },
 "nbformat": 3,
 "nbformat_minor": 0,
 "worksheets": [
  {
   "cells": [
    {
     "cell_type": "heading",
     "level": 1,
     "metadata": {},
     "source": [
      "Transpose Upper Triangular Matrix Vector Multiply Routines"
     ]
    },
    {
     "cell_type": "markdown",
     "metadata": {},
     "source": [
      "This notebook walks you through how to implement $ y := U^T x + y $ where $ U $ is upper triangular."
     ]
    },
    {
     "cell_type": "heading",
     "level": 2,
     "metadata": {},
     "source": [
      "Getting started"
     ]
    },
    {
     "cell_type": "markdown",
     "metadata": {},
     "source": [
      "We will use some functions that are part of our laff library (of which this function will become a part) as well as some routines from the FLAME API (Application Programming Interface) that allows us to write code that closely resembles how we typeset algorithms using the FLAME notation.  These functions are imported with the \"import laff as laff\" and \"import flame\" statements."
     ]
    },
    {
     "cell_type": "heading",
     "level": 2,
     "metadata": {},
     "source": [
      "Algorithm that takes dot products"
     ]
    },
    {
     "cell_type": "heading",
     "level": 2,
     "metadata": {},
     "source": [
      "The routine <br> <code> Tmvmult_ut_unb_var1( U, x, y ) </code>"
     ]
    },
    {
     "cell_type": "markdown",
     "metadata": {},
     "source": [
      "This routine, given upper triangular $ U \\in \\mathbb{R}^{n \\times n} $, $ x \\in \\mathbb{R}^n $, and $ y \\in \\mathbb{R}^n $, computes $ y := U^T x + y $.  The \"_ut_\" in the name of the routine indicates this is the \"upper, transpose\" matrix-vector multiplication.  \n",
      "\n",
      "The specific laff functions we will use are \n",
      "<ul>\n",
      "<li> <code> laff.dots( x, y, alpha ) </code> which computes $ \\alpha := x^T y + \\alpha $.  </li>\n",
      "</ul>\n",
      "\n",
      "Use the <a href=\"https://studio.edx.org/c4x/UTAustinX/UT.5.01x/asset/index.html\"> Spark webpage</a> to generate a code skeleton.  (Make sure you adjust the name of the routine.)"
     ]
    },
    {
     "cell_type": "code",
     "collapsed": false,
     "input": [
      "import flame\n",
      "import laff as laff\n",
      "\n",
      "def Tmvmult_ut_unb_var1(U, x, y):\n",
      "\n",
      "    UTL, UTR, \\\n",
      "    UBL, UBR  = flame.part_2x2(U, \\\n",
      "                               0, 0, 'TL')\n",
      "\n",
      "    xT, \\\n",
      "    xB  = flame.part_2x1(x, \\\n",
      "                         0, 'TOP')\n",
      "\n",
      "    yT, \\\n",
      "    yB  = flame.part_2x1(y, \\\n",
      "                         0, 'TOP')\n",
      "\n",
      "    while UTL.shape[0] < U.shape[0]:\n",
      "\n",
      "        U00,  u01,       U02,  \\\n",
      "        u10t, upsilon11, u12t, \\\n",
      "        U20,  u21,       U22   = flame.repart_2x2_to_3x3(UTL, UTR, \\\n",
      "                                                         UBL, UBR, \\\n",
      "                                                         1, 1, 'BR')\n",
      "\n",
      "        x0,   \\\n",
      "        chi1, \\\n",
      "        x2    = flame.repart_2x1_to_3x1(xT, \\\n",
      "                                        xB, \\\n",
      "                                        1, 'BOTTOM')\n",
      "\n",
      "        y0,   \\\n",
      "        psi1, \\\n",
      "        y2    = flame.repart_2x1_to_3x1(yT, \\\n",
      "                                        yB, \\\n",
      "                                        1, 'BOTTOM')\n",
      "\n",
      "        #------------------------------------------------------------#\n",
      "\n",
      "        laff.dots( upsilon11, chi1, psi1 )\n",
      "        laff.dots( u01, x0, psi1 )\n",
      "        \n",
      "        #------------------------------------------------------------#\n",
      "\n",
      "        UTL, UTR, \\\n",
      "        UBL, UBR  = flame.cont_with_3x3_to_2x2(U00,  u01,       U02,  \\\n",
      "                                               u10t, upsilon11, u12t, \\\n",
      "                                               U20,  u21,       U22,  \\\n",
      "                                               'TL')\n",
      "\n",
      "        xT, \\\n",
      "        xB  = flame.cont_with_3x1_to_2x1(x0,   \\\n",
      "                                         chi1, \\\n",
      "                                         x2,   \\\n",
      "                                         'TOP')\n",
      "\n",
      "        yT, \\\n",
      "        yB  = flame.cont_with_3x1_to_2x1(y0,   \\\n",
      "                                         psi1, \\\n",
      "                                         y2,   \\\n",
      "                                         'TOP')\n",
      "\n",
      "    flame.merge_2x2(UTL, UTR, \\\n",
      "                    UBL, UBR, U)\n",
      "\n",
      "    flame.merge_2x1(xT, \\\n",
      "                    xB, x)\n",
      "\n",
      "    flame.merge_2x1(yT, \\\n",
      "                    yB, y)\n",
      "\n"
     ],
     "language": "python",
     "metadata": {},
     "outputs": [],
     "prompt_number": 1
    },
    {
     "cell_type": "heading",
     "level": 2,
     "metadata": {},
     "source": [
      "Testing"
     ]
    },
    {
     "cell_type": "markdown",
     "metadata": {},
     "source": [
      "Let's quickly test the routine by creating a 4 x 4 matrix and related vectors, performing the computation."
     ]
    },
    {
     "cell_type": "code",
     "collapsed": false,
     "input": [
      "from numpy import random\n",
      "from numpy import matrix\n",
      "\n",
      "U = matrix( random.rand( 4,4 ) )\n",
      "x = matrix( random.rand( 4,1 ) )\n",
      "y = matrix( random.rand( 4,1 ) )\n",
      "yold = matrix( random.rand( 4,1 ) )\n",
      "\n",
      "# Notice that U is not upper triangular.  We will only use the upper triangular part.\n",
      "\n",
      "print( 'U before =' )\n",
      "print( U )\n",
      "\n",
      "print( 'x before =' )\n",
      "print( x )\n",
      "\n",
      "print( 'y before =' )\n",
      "print( y )"
     ],
     "language": "python",
     "metadata": {},
     "outputs": [
      {
       "output_type": "stream",
       "stream": "stdout",
       "text": [
        "U before =\n",
        "[[ 0.1816634   0.63579926  0.40892906  0.13526855]\n",
        " [ 0.59130817  0.37514292  0.90319242  0.37266923]\n",
        " [ 0.68907732  0.54645635  0.85433305  0.40745173]\n",
        " [ 0.09289273  0.37601832  0.5648831   0.4366139 ]]\n",
        "x before =\n",
        "[[ 0.35590906]\n",
        " [ 0.28156297]\n",
        " [ 0.75617645]\n",
        " [ 0.61152981]]\n",
        "y before =\n",
        "[[ 0.57499488]\n",
        " [ 0.21634821]\n",
        " [ 0.03103447]\n",
        " [ 0.24909787]]\n"
       ]
      }
     ],
     "prompt_number": 2
    },
    {
     "cell_type": "code",
     "collapsed": false,
     "input": [
      "import numpy as np\n",
      "laff.copy( y, yold )   # save the original vector y\n",
      "\n",
      "Tmvmult_ut_unb_var1( U, x, y )\n",
      "\n",
      "print( 'y after =' )\n",
      "print( y )\n",
      "\n",
      "#np.triu makes the matrix upper triangular\n",
      "print( 'y - ( np.transpose( np.triu( U ) ) * x + yold ) = ' )\n",
      "print( y - ( np.transpose( np.triu( U ) ) * x + yold ) )"
     ],
     "language": "python",
     "metadata": {},
     "outputs": [
      {
       "output_type": "stream",
       "stream": "stdout",
       "text": [
        "y after =\n",
        "[[ 0.63965053]\n",
        " [ 0.54826128]\n",
        " [ 1.0769081 ]\n",
        " [ 0.97727884]]\n",
        "y - ( np.transpose( np.triu( U ) ) * x + yold ) = \n",
        "[[  0.00000000e+00]\n",
        " [  1.11022302e-16]\n",
        " [  0.00000000e+00]\n",
        " [ -1.11022302e-16]]\n"
       ]
      }
     ],
     "prompt_number": 3
    },
    {
     "cell_type": "markdown",
     "metadata": {},
     "source": [
      "Bingo, it seems to work!  (Notice that we are doing floating point computations, which means that due to rounding you may not get an exact \"0\".)"
     ]
    },
    {
     "cell_type": "heading",
     "level": 2,
     "metadata": {},
     "source": [
      "Watch your code in action!"
     ]
    },
    {
     "cell_type": "markdown",
     "metadata": {},
     "source": [
      "Copy and paste the code into <a href=\"http://edx-org-utaustinx.s3.amazonaws.com/UT501x/PictureFlame/PictureFLAME.html\"> PictureFLAME </a>, a webpage where you can watch your routine in action.  Just cut and paste into the box.  \n",
      "\n",
      "Disclaimer: we implemented a VERY simple interpreter.  If you do something wrong, we cannot guarantee the results.  But if you do it right, you are in for a treat.\n",
      "\n",
      "If you want to reset the problem, just click in the box into which you pasted the code and hit \"next\" again."
     ]
    },
    {
     "cell_type": "heading",
     "level": 2,
     "metadata": {},
     "source": [
      "Algorithm that uses axpys"
     ]
    },
    {
     "cell_type": "heading",
     "level": 2,
     "metadata": {},
     "source": [
      "The routine <br> <code> Tmvmult_ut_unb_var2( U, x, y ) </code>"
     ]
    },
    {
     "cell_type": "markdown",
     "metadata": {},
     "source": [
      "This routine, given upper triangular $ U \\in \\mathbb{R}^{n \\times n} $, $ x \\in \\mathbb{R}^n $, and $ y \\in \\mathbb{R}^n $, computes $ y := U^T x + y $.  The \"_ut_\" in the name of the routine indicates this is the \"upper triangular, no transpose\" matrix-vector multiplication.  \n",
      "\n",
      "The specific laff functions we will use are \n",
      "<ul>\n",
      "<li> <code> laff.axpy( alpha, x, y ) </code> which computes $ y := \\alpha x +  y  $.  </li>\n",
      "</ul>\n",
      "\n",
      "Use the <a href=\"https://studio.edx.org/c4x/UTAustinX/UT.5.01x/asset/index.html\"> Spark webpage</a> to generate a code skeleton.  (Make sure you adjust the name of the routine.)"
     ]
    },
    {
     "cell_type": "code",
     "collapsed": false,
     "input": [
      "import flame\n",
      "import laff as laff\n",
      "\n",
      "def Tmvmult_ut_unb_var2(U, x, y):\n",
      "\n",
      "    UTL, UTR, \\\n",
      "    UBL, UBR  = flame.part_2x2(U, \\\n",
      "                               0, 0, 'TL')\n",
      "\n",
      "    xT, \\\n",
      "    xB  = flame.part_2x1(x, \\\n",
      "                         0, 'TOP')\n",
      "\n",
      "    yT, \\\n",
      "    yB  = flame.part_2x1(y, \\\n",
      "                         0, 'TOP')\n",
      "\n",
      "    while UTL.shape[0] < U.shape[0]:\n",
      "\n",
      "        U00,  u01,       U02,  \\\n",
      "        u10t, upsilon11, u12t, \\\n",
      "        U20,  u21,       U22   = flame.repart_2x2_to_3x3(UTL, UTR, \\\n",
      "                                                         UBL, UBR, \\\n",
      "                                                         1, 1, 'BR')\n",
      "\n",
      "        x0,   \\\n",
      "        chi1, \\\n",
      "        x2    = flame.repart_2x1_to_3x1(xT, \\\n",
      "                                        xB, \\\n",
      "                                        1, 'BOTTOM')\n",
      "\n",
      "        y0,   \\\n",
      "        psi1, \\\n",
      "        y2    = flame.repart_2x1_to_3x1(yT, \\\n",
      "                                        yB, \\\n",
      "                                        1, 'BOTTOM')\n",
      "\n",
      "        #------------------------------------------------------------#\n",
      "\n",
      "        laff.axpy( chi1, u12t, y2 )\n",
      "        laff.axpy( chi1, upsilon11, psi1 )\n",
      "\n",
      "        #------------------------------------------------------------#\n",
      "\n",
      "        UTL, UTR, \\\n",
      "        UBL, UBR  = flame.cont_with_3x3_to_2x2(U00,  u01,       U02,  \\\n",
      "                                               u10t, upsilon11, u12t, \\\n",
      "                                               U20,  u21,       U22,  \\\n",
      "                                               'TL')\n",
      "\n",
      "        xT, \\\n",
      "        xB  = flame.cont_with_3x1_to_2x1(x0,   \\\n",
      "                                         chi1, \\\n",
      "                                         x2,   \\\n",
      "                                         'TOP')\n",
      "\n",
      "        yT, \\\n",
      "        yB  = flame.cont_with_3x1_to_2x1(y0,   \\\n",
      "                                         psi1, \\\n",
      "                                         y2,   \\\n",
      "                                         'TOP')\n",
      "\n",
      "    flame.merge_2x2(UTL, UTR, \\\n",
      "                    UBL, UBR, U)\n",
      "\n",
      "    flame.merge_2x1(xT, \\\n",
      "                    xB, x)\n",
      "\n",
      "    flame.merge_2x1(yT, \\\n",
      "                    yB, y)\n"
     ],
     "language": "python",
     "metadata": {},
     "outputs": [],
     "prompt_number": 4
    },
    {
     "cell_type": "heading",
     "level": 2,
     "metadata": {},
     "source": [
      "Testing"
     ]
    },
    {
     "cell_type": "markdown",
     "metadata": {},
     "source": [
      "Let's quickly test the routine by creating a 4 x 4 matrix and related vectors, performing the computation."
     ]
    },
    {
     "cell_type": "code",
     "collapsed": false,
     "input": [
      "from numpy import random\n",
      "from numpy import matrix\n",
      "\n",
      "U = matrix( random.rand( 4,4 ) )\n",
      "x = matrix( random.rand( 4,1 ) )\n",
      "y = matrix( random.rand( 4,1 ) )\n",
      "yold = matrix( random.rand( 4,1 ) )\n",
      "\n",
      "# U is not upper triangular.  We will only use the upper triangular part.\n",
      "\n",
      "print( 'U before =' )\n",
      "print( U )\n",
      "\n",
      "print( 'x before =' )\n",
      "print( x )\n",
      "\n",
      "print( 'y before =' )\n",
      "print( y )"
     ],
     "language": "python",
     "metadata": {},
     "outputs": [
      {
       "output_type": "stream",
       "stream": "stdout",
       "text": [
        "U before =\n",
        "[[ 0.49898361  0.69459178  0.6445452   0.79605403]\n",
        " [ 0.24053944  0.94408428  0.31725684  0.86522121]\n",
        " [ 0.58232125  0.08669151  0.61518328  0.75798616]\n",
        " [ 0.35739226  0.91316318  0.94165769  0.28821473]]\n",
        "x before =\n",
        "[[ 0.41737786]\n",
        " [ 0.16229476]\n",
        " [ 0.5903635 ]\n",
        " [ 0.38307724]]\n",
        "y before =\n",
        "[[ 0.65528811]\n",
        " [ 0.34757601]\n",
        " [ 0.38793131]\n",
        " [ 0.56289034]]\n"
       ]
      }
     ],
     "prompt_number": 5
    },
    {
     "cell_type": "code",
     "collapsed": false,
     "input": [
      "laff.copy( y, yold )   # save the original vector y\n",
      "\n",
      "Tmvmult_ut_unb_var2( U, x, y )\n",
      "\n",
      "print( 'y after =' )\n",
      "print( y )\n",
      "\n",
      "#np.triu makes the matrix upper triangular\n",
      "print( 'y - ( np.transpose( np.triu( U ) ) * x + yold ) = ' )\n",
      "print( y - ( np.transpose( np.triu( U ) ) * x + yold ) )"
     ],
     "language": "python",
     "metadata": {},
     "outputs": [
      {
       "output_type": "stream",
       "stream": "stdout",
       "text": [
        "y after =\n",
        "[[ 0.86355282]\n",
        " [ 0.79070317]\n",
        " [ 1.07162109]\n",
        " [ 1.5934624 ]]\n",
        "y - ( np.transpose( np.triu( U ) ) * x + yold ) = \n",
        "[[  0.00000000e+00]\n",
        " [  0.00000000e+00]\n",
        " [  0.00000000e+00]\n",
        " [ -2.22044605e-16]]\n"
       ]
      }
     ],
     "prompt_number": 6
    },
    {
     "cell_type": "markdown",
     "metadata": {},
     "source": [
      "Bingo, it seems to work!  (Notice that we are doing floating point computations, which means that due to rounding you may not get an exact \"0\".)"
     ]
    },
    {
     "cell_type": "heading",
     "level": 2,
     "metadata": {},
     "source": [
      "Watch your code in action!"
     ]
    },
    {
     "cell_type": "markdown",
     "metadata": {},
     "source": [
      "Copy and paste the code into <a href=\"http://edx-org-utaustinx.s3.amazonaws.com/UT501x/PictureFlame/PictureFLAME.html\"> PictureFLAME </a>, a webpage where you can watch your routine in action.  Just cut and paste into the box.  \n",
      "\n",
      "Disclaimer: we implemented a VERY simple interpreter.  If you do something wrong, we cannot guarantee the results.  But if you do it right, you are in for a treat.\n",
      "\n",
      "If you want to reset the problem, just click in the box into which you pasted the code and hit \"next\" again."
     ]
    },
    {
     "cell_type": "code",
     "collapsed": false,
     "input": [],
     "language": "python",
     "metadata": {},
     "outputs": []
    }
   ],
   "metadata": {}
  }
 ]
}