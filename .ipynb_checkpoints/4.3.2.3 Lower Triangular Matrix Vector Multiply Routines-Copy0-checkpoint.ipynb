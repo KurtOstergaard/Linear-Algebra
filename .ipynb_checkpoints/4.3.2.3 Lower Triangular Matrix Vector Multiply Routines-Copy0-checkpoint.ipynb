{
 "metadata": {
  "name": ""
 },
 "nbformat": 3,
 "nbformat_minor": 0,
 "worksheets": [
  {
   "cells": [
    {
     "cell_type": "heading",
     "level": 1,
     "metadata": {},
     "source": [
      "Lower Triangular Matrix Vector Multiply Routines"
     ]
    },
    {
     "cell_type": "markdown",
     "metadata": {},
     "source": [
      "This notebook walks you through how to implement $ y := L x + y $ where $ L $ is lower triangular."
     ]
    },
    {
     "cell_type": "heading",
     "level": 2,
     "metadata": {},
     "source": [
      "Getting started"
     ]
    },
    {
     "cell_type": "markdown",
     "metadata": {},
     "source": [
      "We will use some functions that are part of our laff library (of which this function will become a part) as well as some routines from the FLAME API (Application Programming Interface) that allow us to write code that closely resembles how we typeset algorithms using the FLAME notation.  These functions are imported with the \"import laff as laff\" and \"import flame\" statements."
     ]
    },
    {
     "cell_type": "heading",
     "level": 2,
     "metadata": {},
     "source": [
      "The routine <br> <code> Tmvmult_ln_unb_var1( L, x, y ) </code>"
     ]
    },
    {
     "cell_type": "markdown",
     "metadata": {},
     "source": [
      "This routine, given lower triangular $ L \\in \\mathbb{R}^{n \\times n} $, $ x \\in \\mathbb{R}^n $, and $ y \\in \\mathbb{R}^n $, computes $ y := L x + y $.  The \"_ln_\" in the name of the routine indicates this is the \"lower triangular, no transpose\" matrix-vector multiplication.  \n",
      "\n",
      "The specific laff functions we will use are \n",
      "<ul>\n",
      "<li> <code> laff.dots( x, y, alpha ) </code> which computes $ \\alpha := x^T y + \\alpha $.  </li>\n",
      "</ul>\n",
      "\n",
      "Use the <a href=\"https://studio.edx.org/c4x/UTAustinX/UT.5.01x/asset/index.html\"> Spark webpage</a> to generate a code skeleton.  (Make sure you adjust the name of the routine.)"
     ]
    },
    {
     "cell_type": "code",
     "collapsed": false,
     "input": [
      "import flame\n",
      "import laff as laff\n",
      "\n",
      "def Tmvmult_ln_unb_var1(L, x, y):\n",
      "\n",
      "    LTL, LTR, \\\n",
      "    LBL, LBR  = flame.part_2x2(L, \\\n",
      "                               0, 0, 'TL')\n",
      "\n",
      "    xT, \\\n",
      "    xB  = flame.part_2x1(x, \\\n",
      "                         0, 'TOP')\n",
      "\n",
      "    yT, \\\n",
      "    yB  = flame.part_2x1(y, \\\n",
      "                         0, 'TOP')\n",
      "\n",
      "    while LTL.shape[0] < L.shape[0]:\n",
      "\n",
      "        L00,  l01,      L02,  \\\n",
      "        l10t, lambda11, l12t, \\\n",
      "        L20,  l21,      L22   = flame.repart_2x2_to_3x3(LTL, LTR, \\\n",
      "                                                        LBL, LBR, \\\n",
      "                                                        1, 1, 'BR')\n",
      "\n",
      "        x0,   \\\n",
      "        chi1, \\\n",
      "        x2    = flame.repart_2x1_to_3x1(xT, \\\n",
      "                                        xB, \\\n",
      "                                        1, 'BOTTOM')\n",
      "\n",
      "        y0,   \\\n",
      "        psi1, \\\n",
      "        y2    = flame.repart_2x1_to_3x1(yT, \\\n",
      "                                        yB, \\\n",
      "                                        1, 'BOTTOM')\n",
      "\n",
      "        #------------------------------------------------------------#\n",
      "\n",
      "        laff.dots( l10t, x0, psi1 )\n",
      "        laff.dots( lambda11, chi1, psi1 )\n",
      "\n",
      "        #------------------------------------------------------------#\n",
      "\n",
      "        LTL, LTR, \\\n",
      "        LBL, LBR  = flame.cont_with_3x3_to_2x2(L00,  l01,      L02,  \\\n",
      "                                               l10t, lambda11, l12t, \\\n",
      "                                               L20,  l21,      L22,  \\\n",
      "                                               'TL')\n",
      "\n",
      "        xT, \\\n",
      "        xB  = flame.cont_with_3x1_to_2x1(x0,   \\\n",
      "                                         chi1, \\\n",
      "                                         x2,   \\\n",
      "                                         'TOP')\n",
      "\n",
      "        yT, \\\n",
      "        yB  = flame.cont_with_3x1_to_2x1(y0,   \\\n",
      "                                         psi1, \\\n",
      "                                         y2,   \\\n",
      "                                         'TOP')\n",
      "\n",
      "    flame.merge_2x2(LTL, LTR, \\\n",
      "                    LBL, LBR, L)\n",
      "\n",
      "    flame.merge_2x1(xT, \\\n",
      "                    xB, x)\n",
      "\n",
      "    flame.merge_2x1(yT, \\\n",
      "                    yB, y)\n"
     ],
     "language": "python",
     "metadata": {},
     "outputs": [],
     "prompt_number": 1
    },
    {
     "cell_type": "heading",
     "level": 2,
     "metadata": {},
     "source": [
      "Testing"
     ]
    },
    {
     "cell_type": "markdown",
     "metadata": {},
     "source": [
      "Let's quickly test the routine by creating a 4 x 4 matrix and related vectors, performing the computation."
     ]
    },
    {
     "cell_type": "code",
     "collapsed": false,
     "input": [
      "from numpy import random\n",
      "from numpy import matrix\n",
      "\n",
      "L = matrix( random.rand( 4,4 ) )\n",
      "x = matrix( random.rand( 4,1 ) )\n",
      "y = matrix( random.rand( 4,1 ) )\n",
      "yold = matrix( random.rand( 4,1 ) )\n",
      "\n",
      "# Notice that L is not lower triangular.  We will only use the lower triangular part.\n",
      "\n",
      "print( 'L before =' )\n",
      "print( L )\n",
      "\n",
      "print( 'x before =' )\n",
      "print( x )\n",
      "\n",
      "print( 'y before =' )\n",
      "print( y )"
     ],
     "language": "python",
     "metadata": {},
     "outputs": [
      {
       "output_type": "stream",
       "stream": "stdout",
       "text": [
        "L before =\n",
        "[[ 0.68091946  0.16450499  0.72268185  0.62812244]\n",
        " [ 0.70806567  0.22121567  0.45918743  0.47385021]\n",
        " [ 0.93358068  0.06800548  0.52253168  0.05020276]\n",
        " [ 0.73608438  0.24567931  0.76488392  0.80042494]]\n",
        "x before =\n",
        "[[ 0.20775756]\n",
        " [ 0.26866057]\n",
        " [ 0.68674127]\n",
        " [ 0.37546144]]\n",
        "y before =\n",
        "[[ 0.61783444]\n",
        " [ 0.33543358]\n",
        " [ 0.61072864]\n",
        " [ 0.10123528]]\n"
       ]
      }
     ],
     "prompt_number": 2
    },
    {
     "cell_type": "code",
     "collapsed": false,
     "input": [
      "import numpy as np\n",
      "laff.copy( y, yold )   # save the original vector y\n",
      "\n",
      "Tmvmult_ln_unb_var1( L, x, y )\n",
      "\n",
      "print( 'y after =' )\n",
      "print( y )\n",
      "\n",
      "print( 'y - ( np.tril( L ) * x + yold ) = ' ) #np.tril makes the matrix lower triangular\n",
      "print( y - ( np.tril( L ) * x + yold ) )"
     ],
     "language": "python",
     "metadata": {},
     "outputs": [
      {
       "output_type": "stream",
       "stream": "stdout",
       "text": [
        "y after =\n",
        "[[ 0.7593006 ]\n",
        " [ 0.5419715 ]\n",
        " [ 1.18180155]\n",
        " [ 1.14597277]]\n",
        "y - ( np.tril( L ) * x + yold ) = \n",
        "[[  0.00000000e+00]\n",
        " [ -1.11022302e-16]\n",
        " [  0.00000000e+00]\n",
        " [  0.00000000e+00]]\n"
       ]
      }
     ],
     "prompt_number": 3
    },
    {
     "cell_type": "markdown",
     "metadata": {},
     "source": [
      "Bingo, it seems to work!  (Notice that we are doing floating point computations, which means that due to rounding you may not get an exact \"0\".)"
     ]
    },
    {
     "cell_type": "heading",
     "level": 2,
     "metadata": {},
     "source": [
      "Watch your code in action!"
     ]
    },
    {
     "cell_type": "markdown",
     "metadata": {},
     "source": [
      "Copy and paste the code into <a href=\"http://edx-org-utaustinx.s3.amazonaws.com/UT501x/PictureFlame/PictureFLAME.html\"> PictureFLAME </a>, a webpage where you can watch your routine in action.  Just cut and paste into the box.  \n",
      "\n",
      "Disclaimer: we implemented a VERY simple interpreter.  If you do something wrong, we cannot guarantee the results.  But if you do it right, you are in for a treat.\n",
      "\n",
      "If you want to reset the problem, just click in the box into which you pasted the code and hit \"next\" again."
     ]
    },
    {
     "cell_type": "heading",
     "level": 2,
     "metadata": {},
     "source": [
      "The routine <br> <code> Tmvmult_ln_unb_var2( L, x, y ) </code>"
     ]
    },
    {
     "cell_type": "markdown",
     "metadata": {},
     "source": [
      "This routine, given lower triangular $ L \\in \\mathbb{R}^{n \\times n} $, $ x \\in \\mathbb{R}^n $, and $ y \\in \\mathbb{R}^n $, computes $ y := L x + y $.  The \"_ln_\" in the name of the routine indicates this is the \"lower triangular, no transpose\" matrix-vector multiplication.  \n",
      "\n",
      "The specific laff functions we will use are \n",
      "<ul>\n",
      "<li> <code> laff.axpy( alpha, x, y ) </code> which computes $ y := \\alpha x +  y  $.  </li>\n",
      "</ul>\n",
      "\n",
      "Use the <a href=\"https://studio.edx.org/c4x/UTAustinX/UT.5.01x/asset/index.html\"> Spark webpage</a> to generate a code skeleton.  (Make sure you adjust the name of the routine.)"
     ]
    },
    {
     "cell_type": "code",
     "collapsed": false,
     "input": [
      "import flame\n",
      "import laff as laff\n",
      "\n",
      "def Tmvmult_ln_unb_var2(L, x, y):\n",
      "\n",
      "    LTL, LTR, \\\n",
      "    LBL, LBR  = flame.part_2x2(L, \\\n",
      "                               0, 0, 'TL')\n",
      "\n",
      "    xT, \\\n",
      "    xB  = flame.part_2x1(x, \\\n",
      "                         0, 'TOP')\n",
      "\n",
      "    yT, \\\n",
      "    yB  = flame.part_2x1(y, \\\n",
      "                         0, 'TOP')\n",
      "\n",
      "    while LTL.shape[0] < L.shape[0]:\n",
      "\n",
      "        L00,  l01,      L02,  \\\n",
      "        l10t, lambda11, l12t, \\\n",
      "        L20,  l21,      L22   = flame.repart_2x2_to_3x3(LTL, LTR, \\\n",
      "                                                        LBL, LBR, \\\n",
      "                                                        1, 1, 'BR')\n",
      "\n",
      "        x0,   \\\n",
      "        chi1, \\\n",
      "        x2    = flame.repart_2x1_to_3x1(xT, \\\n",
      "                                        xB, \\\n",
      "                                        1, 'BOTTOM')\n",
      "\n",
      "        y0,   \\\n",
      "        psi1, \\\n",
      "        y2    = flame.repart_2x1_to_3x1(yT, \\\n",
      "                                        yB, \\\n",
      "                                        1, 'BOTTOM')\n",
      "\n",
      "        #------------------------------------------------------------#\n",
      "\n",
      "        laff.axpy( chi1, lambda11, psi1 )\n",
      "        laff.axpy( chi1, l21, y2 )\n",
      "        \n",
      "        #Bang Zoom! Got it right the first time again!\n",
      "        \n",
      "        #------------------------------------------------------------#\n",
      "\n",
      "        LTL, LTR, \\\n",
      "        LBL, LBR  = flame.cont_with_3x3_to_2x2(L00,  l01,      L02,  \\\n",
      "                                               l10t, lambda11, l12t, \\\n",
      "                                               L20,  l21,      L22,  \\\n",
      "                                               'TL')\n",
      "\n",
      "        xT, \\\n",
      "        xB  = flame.cont_with_3x1_to_2x1(x0,   \\\n",
      "                                         chi1, \\\n",
      "                                         x2,   \\\n",
      "                                         'TOP')\n",
      "\n",
      "        yT, \\\n",
      "        yB  = flame.cont_with_3x1_to_2x1(y0,   \\\n",
      "                                         psi1, \\\n",
      "                                         y2,   \\\n",
      "                                         'TOP')\n",
      "\n",
      "    flame.merge_2x2(LTL, LTR, \\\n",
      "                    LBL, LBR, L)\n",
      "\n",
      "    flame.merge_2x1(xT, \\\n",
      "                    xB, x)\n",
      "\n",
      "    flame.merge_2x1(yT, \\\n",
      "                    yB, y)\n"
     ],
     "language": "python",
     "metadata": {},
     "outputs": [],
     "prompt_number": 4
    },
    {
     "cell_type": "heading",
     "level": 2,
     "metadata": {},
     "source": [
      "Testing"
     ]
    },
    {
     "cell_type": "markdown",
     "metadata": {},
     "source": [
      "Let's quickly test the routine by creating a 4 x 4 matrix and related vectors, performing the computation."
     ]
    },
    {
     "cell_type": "code",
     "collapsed": false,
     "input": [
      "from numpy import random\n",
      "from numpy import matrix\n",
      "\n",
      "L = matrix( random.rand( 4,4 ) )\n",
      "x = matrix( random.rand( 4,1 ) )\n",
      "y = matrix( random.rand( 4,1 ) )\n",
      "yold = matrix( random.rand( 4,1 ) )\n",
      "\n",
      "# L is not lower triangular.  We will only use the lower triangular part.\n",
      "\n",
      "print( 'L before =' )\n",
      "print( L )\n",
      "\n",
      "print( 'x before =' )\n",
      "print( x )\n",
      "\n",
      "print( 'y before =' )\n",
      "print( y )"
     ],
     "language": "python",
     "metadata": {},
     "outputs": [
      {
       "output_type": "stream",
       "stream": "stdout",
       "text": [
        "L before =\n",
        "[[ 0.22803165  0.58416475  0.78863952  0.9590074 ]\n",
        " [ 0.60963505  0.68661087  0.15932444  0.75211241]\n",
        " [ 0.96791433  0.16298232  0.60490095  0.736351  ]\n",
        " [ 0.36715434  0.85369186  0.38464601  0.7987679 ]]\n",
        "x before =\n",
        "[[ 0.52818475]\n",
        " [ 0.05677472]\n",
        " [ 0.29422402]\n",
        " [ 0.73369999]]\n",
        "y before =\n",
        "[[ 0.69507323]\n",
        " [ 0.07180381]\n",
        " [ 0.282527  ]\n",
        " [ 0.26311805]]\n"
       ]
      }
     ],
     "prompt_number": 5
    },
    {
     "cell_type": "code",
     "collapsed": false,
     "input": [
      "laff.copy( y, yold )   # save the original vector y\n",
      "\n",
      "Tmvmult_ln_unb_var2( L, x, y )\n",
      "\n",
      "print( 'y after =' )\n",
      "print( y )\n",
      "\n",
      "print( 'y - ( np.tril( L ) * x + yold ) = ' ) #np.tril makes the matrix lower triangular\n",
      "print( y - ( np.tril( L ) * x + yold ) )"
     ],
     "language": "python",
     "metadata": {},
     "outputs": [
      {
       "output_type": "stream",
       "stream": "stdout",
       "text": [
        "y after =\n",
        "[[ 0.81551607]\n",
        " [ 0.43278589]\n",
        " [ 0.98099425]\n",
        " [ 1.20473959]]\n",
        "y - ( np.tril( L ) * x + yold ) = \n",
        "[[ 0.]\n",
        " [ 0.]\n",
        " [ 0.]\n",
        " [ 0.]]\n"
       ]
      }
     ],
     "prompt_number": 6
    },
    {
     "cell_type": "markdown",
     "metadata": {},
     "source": [
      "Bingo, it seems to work!  (Notice that we are doing floating point computations, which means that due to rounding you may not get an exact \"0\".)"
     ]
    },
    {
     "cell_type": "heading",
     "level": 2,
     "metadata": {},
     "source": [
      "Watch your code in action!"
     ]
    },
    {
     "cell_type": "markdown",
     "metadata": {},
     "source": [
      "Copy and paste the code into <a href=\"http://edx-org-utaustinx.s3.amazonaws.com/UT501x/PictureFlame/PictureFLAME.html\"> PictureFLAME </a>, a webpage where you can watch your routine in action.  Just cut and paste into the box.  \n",
      "\n",
      "Disclaimer: we implemented a VERY simple interpreter.  If you do something wrong, we cannot guarantee the results.  But if you do it right, you are in for a treat.\n",
      "\n",
      "If you want to reset the problem, just click in the box into which you pasted the code and hit \"next\" again."
     ]
    },
    {
     "cell_type": "code",
     "collapsed": false,
     "input": [],
     "language": "python",
     "metadata": {},
     "outputs": []
    }
   ],
   "metadata": {}
  }
 ]
}