{
 "metadata": {
  "name": ""
 },
 "nbformat": 3,
 "nbformat_minor": 0,
 "worksheets": [
  {
   "cells": [
    {
     "cell_type": "heading",
     "level": 1,
     "metadata": {},
     "source": [
      "Matrix Multiplication Practice"
     ]
    },
    {
     "cell_type": "markdown",
     "metadata": {},
     "source": [
      " In this notebook you'll be able to practice matrix multiplication with randomly generated problems. Notice the special shapes that come up!  You should encounter, as matrix-matrix multiplication, 8 problem types:\n",
      "\n",
      "<ul>\n",
      "<li>\n",
      " Matrix-matrix multiplication (all of them!)\n",
      "</li>\n",
      "<li>\n",
      "Dot Products ($ m = n = 1 $)\n",
      "</li>\n",
      "<li>\n",
      "Outer Products ($ k = 1 $)\n",
      "</li>\n",
      "<li>\n",
      "Row vector scaling ($ m = k = 1 $)\n",
      "</li>\n",
      "<li>\n",
      "Column vector scaling ($ n = k = 1 $)\n",
      "</li>\n",
      "<li>\n",
      "Scalar multiplication ( $ m = n = k = 1 $)\n",
      "</li>\n",
      "<li>\n",
      "Matrix-vector multiplication ($ n = 1 $)\n",
      "</li>\n",
      "<li>\n",
      "Row vector-matrix multiplication ($ m = 1 $)\n",
      "</li>\n",
      "</ul>\n",
      "\n",
      "Each problem type is equally likely, so you'll be able to practice the special cases more often. Try guessing the problem type every time one pops up.  Guess the most specific case of matrix-matrix multiplication.   (Yes, you could guess \"matrix-vector multiplication\" when it is also a scalar multiplication.)\n",
      "\n",
      "A lot of people get confused between Dot and Outer products, and they are really important."
     ]
    },
    {
     "cell_type": "heading",
     "level": 2,
     "metadata": {},
     "source": [
      "Usage"
     ]
    },
    {
     "cell_type": "markdown",
     "metadata": {},
     "source": [
      "Use the three cells below. The routines should be pretty self explanatory, but you can re-run the first code block to get a new random problem as many times as you'd like. The variable <code>p</code> stores the answer to the problem you've generated, so use the <code>p.show_answer()</code> code block to reveal the answer and the <code>p.show_problem_type()</code> code block to reveal the problem type."
     ]
    },
    {
     "cell_type": "code",
     "collapsed": false,
     "input": [
      "import generate_problems as gp\n",
      "\n",
      "p = gp.Problem()\n",
      "p.new_MM()"
     ],
     "language": "python",
     "metadata": {},
     "outputs": [
      {
       "latex": [
        "$$\\left[\\begin{matrix}3 & 0 & -1\\end{matrix}\\right] \\left[\\begin{matrix}0 & -2 & -3\\\\-2 & 0 & -3\\\\4 & 1 & 0\\end{matrix}\\right]=?$$"
       ],
       "metadata": {},
       "output_type": "pyout",
       "prompt_number": 23,
       "text": [
        "<IPython.core.display.Math at 0x10870b750>"
       ]
      }
     ],
     "prompt_number": 23
    },
    {
     "cell_type": "code",
     "collapsed": false,
     "input": [
      "p.show_problem_type()"
     ],
     "language": "python",
     "metadata": {},
     "outputs": [
      {
       "output_type": "stream",
       "stream": "stdout",
       "text": [
        "This is a Row Vector-Matrix Product problem\n"
       ]
      }
     ],
     "prompt_number": 24
    },
    {
     "cell_type": "code",
     "collapsed": false,
     "input": [
      "p.show_answer()"
     ],
     "language": "python",
     "metadata": {},
     "outputs": [
      {
       "latex": [
        "$$\\left[\\begin{matrix}3 & 0 & -1\\end{matrix}\\right] \\left[\\begin{matrix}0 & -2 & -3\\\\-2 & 0 & -3\\\\4 & 1 & 0\\end{matrix}\\right]=\\left[\\begin{matrix}-4 & -7 & -9\\end{matrix}\\right]$$"
       ],
       "metadata": {},
       "output_type": "pyout",
       "prompt_number": 25,
       "text": [
        "<IPython.core.display.Math at 0x10870bad0>"
       ]
      }
     ],
     "prompt_number": 25
    },
    {
     "cell_type": "code",
     "collapsed": false,
     "input": [
      "p.show_answer()"
     ],
     "language": "python",
     "metadata": {},
     "outputs": []
    }
   ],
   "metadata": {}
  }
 ]
}