{
 "metadata": {
  "name": ""
 },
 "nbformat": 3,
 "nbformat_minor": 0,
 "worksheets": [
  {
   "cells": [
    {
     "cell_type": "heading",
     "level": 1,
     "metadata": {},
     "source": [
      "Transposing a matrix"
     ]
    },
    {
     "cell_type": "markdown",
     "metadata": {},
     "source": [
      "This notebook walks you through how to implement simple functions that transpose matrix $ A $, storing the result in matrix $ B $."
     ]
    },
    {
     "cell_type": "heading",
     "level": 2,
     "metadata": {},
     "source": [
      "Getting started"
     ]
    },
    {
     "cell_type": "markdown",
     "metadata": {},
     "source": [
      "We will use some functions that are part of our laff library (of which this function will become a part) as well as some routines from the FLAME API (Application Programming Interface) that allows us to write code that closely resembles how we typeset algorithms using the FLAME notation.  These functions are imported with the \"import laff as laff\" and \"import flame\" statements."
     ]
    },
    {
     "cell_type": "heading",
     "level": 2,
     "metadata": {},
     "source": [
      "Algorithm"
     ]
    },
    {
     "cell_type": "markdown",
     "metadata": {},
     "source": [
      "<image src=\"https://studio.edx.org/c4x/UTAustinX/UT.5.01x/asset/325TransposeAlgorithm.png\" alt=\"Transposing a matrix\" width=\"75%\">"
     ]
    },
    {
     "cell_type": "heading",
     "level": 2,
     "metadata": {},
     "source": [
      "The routine"
     ]
    },
    {
     "cell_type": "markdown",
     "metadata": {},
     "source": [
      "Write your <br>\n",
      "<code> Transpose_unb_var1( A, B ) </code> <br>\n",
      "routine, using the <a href=\"https://studio.edx.org/c4x/UTAustinX/UT.5.01x/asset/index.html\"> Spark webpage </a> and the <code> laff.copy </code> routine."
     ]
    },
    {
     "cell_type": "code",
     "collapsed": false,
     "input": [
      "import flame\n",
      "import laff as laff\n",
      "\n",
      "def Transpose_unb_var1(A, B):\n",
      "\n",
      "    AL, AR = flame.part_1x2(A, \\\n",
      "                            0, 'LEFT')\n",
      "\n",
      "    BT, \\\n",
      "    BB  = flame.part_2x1(B, \\\n",
      "                         0, 'TOP')\n",
      "\n",
      "    while AL.shape[1] < A.shape[1]:\n",
      "\n",
      "        A0, a1, A2 = flame.repart_1x2_to_1x3(AL, AR, \\\n",
      "                                             1, 'RIGHT')\n",
      "\n",
      "        B0,  \\\n",
      "        b1t, \\\n",
      "        B2   = flame.repart_2x1_to_3x1(BT, \\\n",
      "                                       BB, \\\n",
      "                                       1, 'BOTTOM')\n",
      "\n",
      "        #------------------------------------------------------------#\n",
      "\n",
      "        laff.copy( a1, b1t )\n",
      "\n",
      "        #------------------------------------------------------------#\n",
      "\n",
      "        AL, AR = flame.cont_with_1x3_to_1x2(A0, a1, A2, \\\n",
      "                                            'LEFT')\n",
      "\n",
      "        BT, \\\n",
      "        BB  = flame.cont_with_3x1_to_2x1(B0,  \\\n",
      "                                         b1t, \\\n",
      "                                         B2,  \\\n",
      "                                         'TOP')\n",
      "\n",
      "    flame.merge_1x2(AL, AR, A)\n",
      "\n",
      "    flame.merge_2x1(BT, \\\n",
      "                    BB, B)\n"
     ],
     "language": "python",
     "metadata": {},
     "outputs": [],
     "prompt_number": 6
    },
    {
     "cell_type": "heading",
     "level": 2,
     "metadata": {},
     "source": [
      "Testing"
     ]
    },
    {
     "cell_type": "markdown",
     "metadata": {},
     "source": [
      "Let's quickly test the routine by creating a 5 x 4 matrix $ A $ and a 4 x 5 matrix $ B $ and then transposing $ A $, overwriting $ B $ with the result."
     ]
    },
    {
     "cell_type": "code",
     "collapsed": false,
     "input": [
      "from numpy import random\n",
      "from numpy import matrix\n",
      "\n",
      "A = matrix( random.rand( 5,4 ) )\n",
      "B = matrix( random.rand( 4,5 ) )\n",
      "\n",
      "print( 'A ' )\n",
      "print( A )\n",
      "\n",
      "\n",
      "print( 'B before =' )\n",
      "print( B )"
     ],
     "language": "python",
     "metadata": {},
     "outputs": [
      {
       "output_type": "stream",
       "stream": "stdout",
       "text": [
        "A \n",
        "[[ 0.39766877  0.60282088  0.96673683  0.70790933]\n",
        " [ 0.60468892  0.09272759  0.94635671  0.54855841]\n",
        " [ 0.92317119  0.3185902   0.43737637  0.09309513]\n",
        " [ 0.55937238  0.45685189  0.68166523  0.60606267]\n",
        " [ 0.60869941  0.64547979  0.5261107   0.7499547 ]]\n",
        "B before =\n",
        "[[ 0.0955718   0.7007214   0.0284465   0.9838486   0.56034394]\n",
        " [ 0.96872581  0.20347377  0.96446749  0.68061525  0.50056574]\n",
        " [ 0.86320847  0.43009072  0.92359325  0.79048673  0.52936789]\n",
        " [ 0.77319966  0.72254694  0.00664182  0.04881685  0.84987498]]\n"
       ]
      }
     ],
     "prompt_number": 7
    },
    {
     "cell_type": "code",
     "collapsed": false,
     "input": [
      "Transpose_unb_var1( A, B )\n",
      "\n",
      "print( 'A ' )\n",
      "print( A )\n",
      "\n",
      "print( 'B after =' )\n",
      "print( B )"
     ],
     "language": "python",
     "metadata": {},
     "outputs": [
      {
       "output_type": "stream",
       "stream": "stdout",
       "text": [
        "A \n",
        "[[ 0.39766877  0.60282088  0.96673683  0.70790933]\n",
        " [ 0.60468892  0.09272759  0.94635671  0.54855841]\n",
        " [ 0.92317119  0.3185902   0.43737637  0.09309513]\n",
        " [ 0.55937238  0.45685189  0.68166523  0.60606267]\n",
        " [ 0.60869941  0.64547979  0.5261107   0.7499547 ]]\n",
        "B after =\n",
        "[[ 0.39766877  0.60468892  0.92317119  0.55937238  0.60869941]\n",
        " [ 0.60282088  0.09272759  0.3185902   0.45685189  0.64547979]\n",
        " [ 0.96673683  0.94635671  0.43737637  0.68166523  0.5261107 ]\n",
        " [ 0.70790933  0.54855841  0.09309513  0.60606267  0.7499547 ]]\n"
       ]
      }
     ],
     "prompt_number": 8
    },
    {
     "cell_type": "markdown",
     "metadata": {},
     "source": [
      "Bingo, it seems to work!"
     ]
    },
    {
     "cell_type": "heading",
     "level": 2,
     "metadata": {},
     "source": [
      "Try it yourself (Homework 3.2.5.3)"
     ]
    },
    {
     "cell_type": "markdown",
     "metadata": {},
     "source": [
      "Now, an alternative routine that accesses the matrix by rows."
     ]
    },
    {
     "cell_type": "markdown",
     "metadata": {},
     "source": [
      "Use the <a href=\"https://studio.edx.org/c4x/UTAustinX/UT.5.01x/asset/index.html\"> Spark webpage </a> to generate the routine <br>\n",
      "<code> Transpose_unb_var2( A, B )</code>.<br>"
     ]
    },
    {
     "cell_type": "code",
     "collapsed": false,
     "input": [
      "import flame\n",
      "import laff as laff\n",
      "\n",
      "def Transpose_unb_var2(A, B):\n",
      "\n",
      "    AT, \\\n",
      "    AB  = flame.part_2x1(A, \\\n",
      "                         0, 'TOP')\n",
      "\n",
      "    BL, BR = flame.part_1x2(B, \\\n",
      "                            0, 'LEFT')\n",
      "\n",
      "    while AT.shape[0] < A.shape[0]:\n",
      "\n",
      "        A0,  \\\n",
      "        a1t, \\\n",
      "        A2   = flame.repart_2x1_to_3x1(AT, \\\n",
      "                                       AB, \\\n",
      "                                       1, 'BOTTOM')\n",
      "\n",
      "        B0, b1, B2 = flame.repart_1x2_to_1x3(BL, BR, \\\n",
      "                                             1, 'RIGHT')\n",
      "\n",
      "        #------------------------------------------------------------#\n",
      "\n",
      "        laff.copy( a1t, b1 )\n",
      "\n",
      "        #------------------------------------------------------------#\n",
      "\n",
      "        AT, \\\n",
      "        AB  = flame.cont_with_3x1_to_2x1(A0,  \\\n",
      "                                         a1t, \\\n",
      "                                         A2,  \\\n",
      "                                         'TOP')\n",
      "\n",
      "        BL, BR = flame.cont_with_1x3_to_1x2(B0, b1, B2, \\\n",
      "                                            'LEFT')\n",
      "\n",
      "    flame.merge_2x1(AT, \\\n",
      "                    AB, A)\n",
      "\n",
      "    flame.merge_1x2(BL, BR, B)\n",
      "\n"
     ],
     "language": "python",
     "metadata": {},
     "outputs": [],
     "prompt_number": 9
    },
    {
     "cell_type": "markdown",
     "metadata": {},
     "source": [
      "Test your routine with the following"
     ]
    },
    {
     "cell_type": "code",
     "collapsed": false,
     "input": [
      "A = matrix( random.rand( 5,4 ) )\n",
      "B = matrix( random.rand( 4,5 ) )\n",
      "\n",
      "print( 'A ' )\n",
      "print( A )\n",
      "\n",
      "\n",
      "print( 'B before =' )\n",
      "print( B )"
     ],
     "language": "python",
     "metadata": {},
     "outputs": [
      {
       "output_type": "stream",
       "stream": "stdout",
       "text": [
        "A \n",
        "[[ 0.06534182  0.23493823  0.26970798  0.84816482]\n",
        " [ 0.8285077   0.87577943  0.25211299  0.64362113]\n",
        " [ 0.00481091  0.77165647  0.64584093  0.29814451]\n",
        " [ 0.97097916  0.60614704  0.31086222  0.70744348]\n",
        " [ 0.44030146  0.73616873  0.57831236  0.95520227]]\n",
        "B before =\n",
        "[[ 0.9993385   0.62769505  0.35776075  0.88347432  0.40920128]\n",
        " [ 0.33341028  0.98932962  0.85503846  0.65113769  0.21106204]\n",
        " [ 0.90778746  0.68181963  0.72423753  0.86635919  0.85075419]\n",
        " [ 0.84091066  0.92841846  0.50317932  0.48507346  0.755581  ]]\n"
       ]
      }
     ],
     "prompt_number": 10
    },
    {
     "cell_type": "code",
     "collapsed": false,
     "input": [
      "Transpose_unb_var2( A, B )\n",
      "\n",
      "print( 'A ' )\n",
      "print( A )\n",
      "\n",
      "print( 'B after =' )\n",
      "print( B )"
     ],
     "language": "python",
     "metadata": {},
     "outputs": [
      {
       "output_type": "stream",
       "stream": "stdout",
       "text": [
        "A \n",
        "[[ 0.06534182  0.23493823  0.26970798  0.84816482]\n",
        " [ 0.8285077   0.87577943  0.25211299  0.64362113]\n",
        " [ 0.00481091  0.77165647  0.64584093  0.29814451]\n",
        " [ 0.97097916  0.60614704  0.31086222  0.70744348]\n",
        " [ 0.44030146  0.73616873  0.57831236  0.95520227]]\n",
        "B after =\n",
        "[[ 0.06534182  0.8285077   0.00481091  0.97097916  0.44030146]\n",
        " [ 0.23493823  0.87577943  0.77165647  0.60614704  0.73616873]\n",
        " [ 0.26970798  0.25211299  0.64584093  0.31086222  0.57831236]\n",
        " [ 0.84816482  0.64362113  0.29814451  0.70744348  0.95520227]]\n"
       ]
      }
     ],
     "prompt_number": 11
    },
    {
     "cell_type": "heading",
     "level": 2,
     "metadata": {},
     "source": [
      "Watch your code in action!"
     ]
    },
    {
     "cell_type": "markdown",
     "metadata": {},
     "source": [
      "Copy and paste the code into <a href=\"http://edx-org-utaustinx.s3.amazonaws.com/UT501x/PictureFlame/PictureFLAME.html\"> PictureFLAME </a>, a webpage where you can watch your routine in action.  Just cut and paste into the box.  \n",
      "\n",
      "Disclaimer: we implemented a VERY simple interpreter.  If you do something wrong, we cannot guarantee the results.  But if you do it right, you are in for a treat.\n",
      "\n",
      "If you want to reset the problem, just click in the box into which you pasted the code and hit \"next\" again."
     ]
    },
    {
     "cell_type": "code",
     "collapsed": false,
     "input": [],
     "language": "python",
     "metadata": {},
     "outputs": [],
     "prompt_number": 3
    },
    {
     "cell_type": "code",
     "collapsed": false,
     "input": [
      "import laff\n",
      "import numpy as np\n",
      "\n",
      "x = np.matrix( '1;\\\n",
      "                2;\\\n",
      "                3' )\n",
      "y = np.matrix( '-1;\\\n",
      "                 0;\\\n",
      "                 2' )\n",
      "\n",
      "laff.copy( x, y )\n",
      "\n",
      "print( \"x = \" )\n",
      "print( x )\n",
      "\n",
      "print( \"y = \" )\n",
      "print( y )"
     ],
     "language": "python",
     "metadata": {},
     "outputs": [
      {
       "output_type": "stream",
       "stream": "stdout",
       "text": [
        "x = \n",
        "[[1]\n",
        " [2]\n",
        " [3]]\n",
        "y = \n",
        "[[1]\n",
        " [2]\n",
        " [3]]\n"
       ]
      }
     ],
     "prompt_number": 5
    },
    {
     "cell_type": "code",
     "collapsed": false,
     "input": [],
     "language": "python",
     "metadata": {},
     "outputs": []
    }
   ],
   "metadata": {}
  }
 ]
}