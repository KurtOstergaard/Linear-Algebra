{
 "metadata": {
  "name": ""
 },
 "nbformat": 3,
 "nbformat_minor": 0,
 "worksheets": [
  {
   "cells": [
    {
     "cell_type": "heading",
     "level": 1,
     "metadata": {},
     "source": [
      "The Scale_a_matrix routine"
     ]
    },
    {
     "cell_type": "markdown",
     "metadata": {},
     "source": [
      "This notebook walks you through how to implement a simple function that scales a matrix $ A $ by a scalar $ \\beta $, overwriting $ A $."
     ]
    },
    {
     "cell_type": "heading",
     "level": 2,
     "metadata": {},
     "source": [
      "Getting started"
     ]
    },
    {
     "cell_type": "markdown",
     "metadata": {},
     "source": [
      "We will use some functions that are part of our laff library (of which this function will become a part) as well as some routines from the FLAME API (Application Programming Interface) that allows us to write code that closely resembles how we typeset algorithms using the FLAME notation.  These functions are imported with the \"import laff as laff\" and \"import flame\" statements."
     ]
    },
    {
     "cell_type": "heading",
     "level": 2,
     "metadata": {},
     "source": [
      "Algorithm"
     ]
    },
    {
     "cell_type": "markdown",
     "metadata": {},
     "source": [
      "<image src=\"https://studio.edx.org/c4x/UTAustinX/UT.5.01x/asset/331ScaleMatrix.png\" alt=\"Set matrix to zero algorithm\" width=\"85%\">"
     ]
    },
    {
     "cell_type": "heading",
     "level": 2,
     "metadata": {},
     "source": [
      "The routine"
     ]
    },
    {
     "cell_type": "markdown",
     "metadata": {},
     "source": [
      "The specific laff function we will use is laff.scal which, when given a row or column vector (stored as a 1 x n or n x 1 matrix) and a scalar scales that vector.  \n",
      "\n",
      "Code the routine with the <a href=\"https://studio.edx.org/c4x/UTAustinX/UT.5.01x/asset/index.html\"> Spark webpage </a>."
     ]
    },
    {
     "cell_type": "code",
     "collapsed": false,
     "input": [
      "import flame\n",
      "import laff as laff\n",
      "\n",
      "def Scale_a_matrix_unb_var1(beta, A):\n",
      "\n",
      "    AL, AR = flame.part_1x2(A, \\\n",
      "                            0, 'LEFT')\n",
      "\n",
      "    while AL.shape[1] < A.shape[1]:\n",
      "\n",
      "        A0, a1, A2 = flame.repart_1x2_to_1x3(AL, AR, \\\n",
      "                                             1, 'RIGHT')\n",
      "\n",
      "        #------------------------------------------------------------#\n",
      "\n",
      "        laff.scal(beta, a1)\n",
      "\n",
      "        #------------------------------------------------------------#\n",
      "\n",
      "        AL, AR = flame.cont_with_1x3_to_1x2(A0, a1, A2, \\\n",
      "                                            'LEFT')\n",
      "\n",
      "    flame.merge_1x2(AL, AR, A)\n"
     ],
     "language": "python",
     "metadata": {},
     "outputs": [],
     "prompt_number": 28
    },
    {
     "cell_type": "heading",
     "level": 2,
     "metadata": {},
     "source": [
      "Testing"
     ]
    },
    {
     "cell_type": "markdown",
     "metadata": {},
     "source": [
      "Let's quickly test the routine by creating a 5 x 4 matrix and then scaling by a scalar."
     ]
    },
    {
     "cell_type": "code",
     "collapsed": false,
     "input": [
      "from numpy import random\n",
      "from numpy import matrix\n",
      "\n",
      "beta = matrix( '2' )\n",
      "A = matrix( random.rand( 5,4 ) )\n",
      "\n",
      "print( 'beta = ' )\n",
      "print( beta )\n",
      "\n",
      "print( 'A before =' )\n",
      "print( A )"
     ],
     "language": "python",
     "metadata": {},
     "outputs": [
      {
       "output_type": "stream",
       "stream": "stdout",
       "text": [
        "beta = \n",
        "[[2]]\n",
        "A before =\n",
        "[[ 0.01291799  0.99156844  0.35455154  0.81934499]\n",
        " [ 0.98415147  0.67398969  0.28878082  0.24840723]\n",
        " [ 0.55516829  0.13163266  0.14194933  0.52668358]\n",
        " [ 0.7148255   0.75158568  0.95897578  0.01484323]\n",
        " [ 0.93306036  0.61456873  0.73390296  0.8402198 ]]\n"
       ]
      }
     ],
     "prompt_number": 29
    },
    {
     "cell_type": "code",
     "collapsed": false,
     "input": [
      "Scale_a_matrix_unb_var1( beta, A )\n",
      "\n",
      "print( 'A after =' )\n",
      "print( A )"
     ],
     "language": "python",
     "metadata": {},
     "outputs": [
      {
       "output_type": "stream",
       "stream": "stdout",
       "text": [
        "A after =\n",
        "[[ 0.02583597  1.98313688  0.70910307  1.63868999]\n",
        " [ 1.96830295  1.34797938  0.57756165  0.49681445]\n",
        " [ 1.11033657  0.26326532  0.28389866  1.05336716]\n",
        " [ 1.429651    1.50317136  1.91795155  0.02968647]\n",
        " [ 1.86612072  1.22913745  1.46780592  1.68043961]]\n"
       ]
      }
     ],
     "prompt_number": 30
    },
    {
     "cell_type": "markdown",
     "metadata": {},
     "source": [
      "Bingo, it seems to work!"
     ]
    },
    {
     "cell_type": "heading",
     "level": 2,
     "metadata": {},
     "source": [
      "Try it yourself (homework 3.3.1.3)"
     ]
    },
    {
     "cell_type": "markdown",
     "metadata": {},
     "source": [
      "Now, write an alternative algorithm that scales $ A $ one row at a time."
     ]
    },
    {
     "cell_type": "markdown",
     "metadata": {},
     "source": [
      "Use the <a href=\"https://studio.edx.org/c4x/UTAustinX/UT.5.01x/asset/index.html\"> Spark webpage </a> to generate the function Scale_a_matrix_unb_var2( beta, A ) that computes $ A := \\beta A $ one row at a time."
     ]
    },
    {
     "cell_type": "code",
     "collapsed": false,
     "input": [
      "import flame\n",
      "import laff as laff\n",
      "\n",
      "def Scale_a_matrix_unb_var2(beta, A):\n",
      "\n",
      "    AT, \\\n",
      "    AB  = flame.part_2x1(A, \\\n",
      "                         0, 'TOP')\n",
      "\n",
      "    while AT.shape[0] < A.shape[0]:\n",
      "\n",
      "        A0,  \\\n",
      "        a1t, \\\n",
      "        A2   = flame.repart_2x1_to_3x1(AT, \\\n",
      "                                       AB, \\\n",
      "                                       1, 'BOTTOM')\n",
      "\n",
      "        #------------------------------------------------------------#\n",
      "\n",
      "        laff.scal(beta, a1t)\n",
      "\n",
      "        #------------------------------------------------------------#\n",
      "\n",
      "        AT, \\\n",
      "        AB  = flame.cont_with_3x1_to_2x1(A0,  \\\n",
      "                                         a1t, \\\n",
      "                                         A2,  \\\n",
      "                                         'TOP')\n",
      "\n",
      "    flame.merge_2x1(AT, \\\n",
      "                    AB, A)\n"
     ],
     "language": "python",
     "metadata": {},
     "outputs": [],
     "prompt_number": 37
    },
    {
     "cell_type": "markdown",
     "metadata": {},
     "source": [
      "Test your routine with the following"
     ]
    },
    {
     "cell_type": "code",
     "collapsed": false,
     "input": [
      "from numpy import random\n",
      "from numpy import matrix\n",
      "\n",
      "beta = matrix( '2' );\n",
      "A = matrix( random.rand( 5,4 ) )\n",
      "\n",
      "print( 'A before =' )\n",
      "print( A )\n",
      "\n",
      "Scale_a_matrix_unb_var2( beta, A )\n",
      "print( 'A after =' )\n",
      "print( A )"
     ],
     "language": "python",
     "metadata": {},
     "outputs": [
      {
       "output_type": "stream",
       "stream": "stdout",
       "text": [
        "A before =\n",
        "[[ 0.86815071  0.98015002  0.33683699  0.66886096]\n",
        " [ 0.85621423  0.53433153  0.20993608  0.51832701]\n",
        " [ 0.57281806  0.69874412  0.4833868   0.2280904 ]\n",
        " [ 0.20549169  0.92216451  0.43350593  0.46217061]\n",
        " [ 0.59311491  0.03664064  0.08074735  0.48675637]]\n",
        "A after =\n",
        "[[ 1.73630142  1.96030004  0.67367398  1.33772193]\n",
        " [ 1.71242847  1.06866306  0.41987215  1.03665403]\n",
        " [ 1.14563613  1.39748824  0.96677361  0.4561808 ]\n",
        " [ 0.41098338  1.84432902  0.86701187  0.92434121]\n",
        " [ 1.18622983  0.07328128  0.16149471  0.97351274]]\n"
       ]
      }
     ],
     "prompt_number": 38
    },
    {
     "cell_type": "heading",
     "level": 2,
     "metadata": {},
     "source": [
      "Watch your code in action!"
     ]
    },
    {
     "cell_type": "markdown",
     "metadata": {},
     "source": [
      "Copy and paste the code into <a href=\"http://edx-org-utaustinx.s3.amazonaws.com/UT501x/PictureFlame/PictureFLAME.html\"> PictureFLAME </a>, a webpage where you can watch your routine in action.  Just cut and paste into the box.  \n",
      "\n",
      "Disclaimer: we implemented a VERY simple interpreter.  If you do something wrong, we cannot guarantee the results.  But if you do it right, you are in for a treat.\n",
      "\n",
      "If you want to reset the problem, just click in the box into which you pasted the code and hit \"next\" again."
     ]
    },
    {
     "cell_type": "code",
     "collapsed": false,
     "input": [],
     "language": "python",
     "metadata": {},
     "outputs": []
    }
   ],
   "metadata": {}
  }
 ]
}